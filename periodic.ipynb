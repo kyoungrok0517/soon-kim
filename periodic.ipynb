{
 "cells": [
  {
   "cell_type": "code",
   "execution_count": 1,
   "metadata": {
    "collapsed": true
   },
   "outputs": [],
   "source": [
    "from bokeh.models import HoverTool, ColumnDataSource\n",
    "from bokeh.plotting import figure, show, output_file\n",
    "from bokeh.sampledata.periodic_table import elements"
   ]
  },
  {
   "cell_type": "code",
   "execution_count": 3,
   "metadata": {
    "collapsed": false
   },
   "outputs": [],
   "source": [
    "romans = [\"I\", \"II\", \"III\", \"IV\", \"V\", \"VI\", \"VII\"]\n",
    "\n",
    "elements[\"atomic mass\"] = elements[\"atomic mass\"].astype(str)\n",
    "\n",
    "elements[\"period\"] = [romans[x-1] for x in elements.period]\n",
    "elements = elements[elements.group != \"-\"]\n",
    "\n",
    "group_range = [str(x) for x in range(1, 19)]\n",
    "\n",
    "colormap = {\n",
    "    \"alkali metal\"         : \"#a6cee3\",\n",
    "    \"alkaline earth metal\" : \"#1f78b4\",\n",
    "    \"halogen\"              : \"#fdbf6f\",\n",
    "    \"metal\"                : \"#b2df8a\",\n",
    "    \"metalloid\"            : \"#33a02c\",\n",
    "    \"noble gas\"            : \"#bbbb88\",\n",
    "    \"nonmetal\"             : \"#baa2a6\",\n",
    "    \"transition metal\"     : \"#e08e79\",\n",
    "}"
   ]
  },
  {
   "cell_type": "code",
   "execution_count": 4,
   "metadata": {
    "collapsed": true
   },
   "outputs": [],
   "source": [
    "source = ColumnDataSource(\n",
    "    data=dict(\n",
    "        group=[str(x) for x in elements[\"group\"]],\n",
    "        period=[str(y) for y in elements[\"period\"]],\n",
    "        symx=[str(x)+\":0.1\" for x in elements[\"group\"]],\n",
    "        numbery=[str(x)+\":0.8\" for x in elements[\"period\"]],\n",
    "        massy=[str(x)+\":0.15\" for x in elements[\"period\"]],\n",
    "        namey=[str(x)+\":0.3\" for x in elements[\"period\"]],\n",
    "        sym=elements[\"symbol\"],\n",
    "        name=elements[\"name\"],\n",
    "        cpk=elements[\"CPK\"],\n",
    "        atomic_number=elements[\"atomic number\"],\n",
    "        electronic=elements[\"electronic configuration\"],\n",
    "        mass=elements[\"atomic mass\"],\n",
    "        type=elements[\"metal\"],\n",
    "        type_color=[colormap[x] for x in elements[\"metal\"]],\n",
    "    )\n",
    ")"
   ]
  },
  {
   "cell_type": "code",
   "execution_count": 7,
   "metadata": {
    "collapsed": true
   },
   "outputs": [],
   "source": [
    "p = figure(title=\"Periodic Table\", tools=\"resize,hover,save\",\n",
    "           x_range=group_range, y_range=list(reversed(romans)))\n",
    "p.plot_width = 1200\n",
    "p.toolbar_location = None\n",
    "p.outline_line_color = None\n",
    "\n",
    "p.rect(\"group\", \"period\", 0.9, 0.9, source=source,\n",
    "       fill_alpha=0.6, color=\"type_color\")\n",
    "\n",
    "text_props = {\n",
    "    \"source\": source,\n",
    "    \"angle\": 0,\n",
    "    \"color\": \"black\",\n",
    "    \"text_align\": \"left\",\n",
    "    \"text_baseline\": \"middle\"\n",
    "}\n",
    "\n",
    "p.text(x=\"symx\", y=\"period\", text=\"sym\",\n",
    "       text_font_style=\"bold\", text_font_size=\"15pt\", **text_props)\n",
    "\n",
    "p.text(x=\"symx\", y=\"numbery\", text=\"atomic_number\",\n",
    "       text_font_size=\"9pt\", **text_props)\n",
    "\n",
    "p.text(x=\"symx\", y=\"namey\", text=\"name\",\n",
    "       text_font_size=\"6pt\", **text_props)\n",
    "\n",
    "p.text(x=\"symx\", y=\"massy\", text=\"mass\",\n",
    "       text_font_size=\"5pt\", **text_props)\n",
    "\n",
    "p.grid.grid_line_color = None\n",
    "\n",
    "p.select_one(HoverTool).tooltips = [\n",
    "    (\"name\", \"@name\"),\n",
    "    (\"atomic number\", \"@atomic_number\"),\n",
    "    (\"type\", \"@type\"),\n",
    "    (\"atomic mass\", \"@mass\"),\n",
    "    (\"CPK color\", \"$color[hex, swatch]:cpk\"),\n",
    "    (\"electronic configuration\", \"@electronic\"),\n",
    "]\n",
    "\n",
    "output_file(\"periodic.html\", title=\"periodic.py example\")\n",
    "\n",
    "show(p)"
   ]
  }
 ],
 "metadata": {
  "kernelspec": {
   "display_name": "Python 3",
   "language": "python",
   "name": "python3"
  },
  "language_info": {
   "codemirror_mode": {
    "name": "ipython",
    "version": 3
   },
   "file_extension": ".py",
   "mimetype": "text/x-python",
   "name": "python",
   "nbconvert_exporter": "python",
   "pygments_lexer": "ipython3",
   "version": "3.4.3"
  }
 },
 "nbformat": 4,
 "nbformat_minor": 0
}
